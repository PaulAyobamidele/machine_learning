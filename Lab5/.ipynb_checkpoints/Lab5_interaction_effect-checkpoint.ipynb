{
 "cells": [
  {
   "cell_type": "markdown",
   "id": "98c92808",
   "metadata": {},
   "source": [
    "# Interaction Effects\n",
    "\n",
    "Boston housing dataset, a popular choice for regression problems. This exercise will guide you through creating an interaction term between two predictors and analyzing its impact on a linear regression model predicting housing prices."
   ]
  },
  {
   "cell_type": "markdown",
   "id": "c8a72be3",
   "metadata": {},
   "source": [
    "Goal: Investigate how the interaction between average number of rooms per dwelling (RM) and proportion of owner-occupied units built before 1940 (AGE) affects the median value of owner-occupied homes (MEDV)."
   ]
  },
  {
   "cell_type": "markdown",
   "id": "e69de057",
   "metadata": {},
   "source": [
    "Dataset:\n",
    "The Boston housing dataset contains information collected by the U.S Census Service concerning housing in the area of Boston Mass. It has 506 entries with 13 features and one target variable (MEDV: Median value of owner-occupied homes in $1000)."
   ]
  },
  {
   "cell_type": "code",
   "execution_count": null,
   "id": "0ffe8428",
   "metadata": {},
   "outputs": [],
   "source": [
    "# Load the Dataset: Use scikit-learn to load the Boston housing dataset.\n",
    "from sklearn.datasets import load_boston\n",
    "\n",
    "# complete the code: load the dataset...\n",
    "\n",
    "boston = \n",
    "\n",
    "boston.DESCR"
   ]
  },
  {
   "cell_type": "code",
   "execution_count": null,
   "id": "281be138",
   "metadata": {},
   "outputs": [],
   "source": [
    "# Prepare the Data: Extract the RM (average number of rooms per dwelling) and AGE (proportion of owner-occupied units built prior to 1940) features. \n",
    "# Also, prepare the target variable MEDV (median value of owner-occupied homes).\n",
    "import pandas as pd\n",
    "\n",
    "df = pd.DataFrame(boston.data, columns=boston.feature_names)\n",
    "df['MEDV'] = boston.target\n",
    "df.head()"
   ]
  },
  {
   "cell_type": "markdown",
   "id": "6ae86e46",
   "metadata": {},
   "source": [
    "Create an Interaction Term: Generate a new feature that is the product of RM and AGE to explore the potential interaction effect between these two variables on MEDV."
   ]
  },
  {
   "cell_type": "code",
   "execution_count": null,
   "id": "f4a430a2",
   "metadata": {},
   "outputs": [],
   "source": [
    "# Hint: You can create a new column in a DataFrame by assigning the product of two columns like this:\n",
    "# `DataFrame['new_column_name'] = DataFrame['column1'] * DataFrame['column2']`\n",
    "\n",
    "# complete the code: create the new feature called RM_AGE that is the product of RM and AGE...\n",
    "\n",
    "\n",
    "df.head()"
   ]
  },
  {
   "cell_type": "code",
   "execution_count": null,
   "id": "e0a644a0",
   "metadata": {},
   "outputs": [],
   "source": [
    "# Split the Data: Divide your data into training and testing sets using train_test_split.\n",
    "\n",
    "from sklearn.model_selection import train_test_split\n",
    "\n",
    "# complete the code...\n"
   ]
  },
  {
   "cell_type": "markdown",
   "id": "3cfe6739",
   "metadata": {},
   "source": [
    "Model Training: Train two linear regression models - one with and one without the interaction term. \n",
    "\n",
    "Use LinearRegression from scikit-learn."
   ]
  },
  {
   "cell_type": "code",
   "execution_count": null,
   "id": "1b31e6a6",
   "metadata": {},
   "outputs": [],
   "source": [
    "from sklearn.linear_model import LinearRegression\n",
    "\n",
    "\n",
    "# complete the code...\n",
    "\n"
   ]
  },
  {
   "cell_type": "markdown",
   "id": "3564bcb9",
   "metadata": {},
   "source": [
    "Evaluate the Models: Compare the performance of the two models using the R² score on the test set. Discuss the impact of including the interaction term on the model's performance."
   ]
  },
  {
   "cell_type": "code",
   "execution_count": null,
   "id": "2713ad91",
   "metadata": {},
   "outputs": [],
   "source": [
    "from sklearn.metrics import r2_score\n",
    "\n",
    "\n",
    "# complete the code...\n",
    "\n"
   ]
  },
  {
   "cell_type": "markdown",
   "id": "3280717b",
   "metadata": {},
   "source": [
    "## How to detect interaction effets?"
   ]
  },
  {
   "cell_type": "markdown",
   "id": "774d8d3c",
   "metadata": {},
   "source": [
    "Exploratory Data Analysis (EDA) is a crucial first step in analyzing a dataset, as it helps uncover underlying patterns, spot anomalies, and form hypotheses, including potential interaction effects between variables. \n",
    "Let's perform EDA on the Boston housing dataset, focusing on uncovering potential interactions."
   ]
  },
  {
   "cell_type": "markdown",
   "id": "b0327a3c",
   "metadata": {},
   "source": [
    "Identify non-linear relationships and potential interactions by visualizing how pairs of features relate to the target."
   ]
  },
  {
   "cell_type": "code",
   "execution_count": null,
   "id": "39062d93",
   "metadata": {},
   "outputs": [],
   "source": [
    "import matplotlib.pyplot as plt\n",
    "import seaborn as sns\n",
    "\n",
    "# Select a few features based on correlation analysis for detailed scatter plots\n",
    "features = ['RM', 'LSTAT', 'TAX', 'INDUS']\n",
    "target = 'MEDV'\n",
    "\n",
    "for feature in features:\n",
    "    plt.figure(figsize=(8, 5))\n",
    "    sns.scatterplot(data=df, x=feature, y=target, hue='AGE', palette='coolwarm')\n",
    "    plt.title(f'{feature} vs. {target} by AGE')\n",
    "    plt.show()\n"
   ]
  },
  {
   "cell_type": "code",
   "execution_count": null,
   "id": "ba614d6b",
   "metadata": {},
   "outputs": [],
   "source": []
  },
  {
   "cell_type": "markdown",
   "id": "607ffbc8",
   "metadata": {},
   "source": [
    "## Correlation Analysis"
   ]
  },
  {
   "cell_type": "markdown",
   "id": "30ce0fbd",
   "metadata": {},
   "source": [
    "Look for pairs of features that both have strong correlations with the target variable (MEDV). Their interaction might enhance the model’s prediction capability."
   ]
  },
  {
   "cell_type": "code",
   "execution_count": null,
   "id": "353fad67",
   "metadata": {},
   "outputs": [],
   "source": [
    "from sklearn.datasets import load_boston\n",
    "import pandas as pd\n",
    "import matplotlib.pyplot as plt\n",
    "import seaborn as sns\n",
    "\n",
    "#boston = load_boston()\n",
    "#df = pd.DataFrame(boston.data, columns=boston.feature_names)\n",
    "#df['MEDV'] = boston.target\n",
    "\n",
    "\n",
    "plt.figure(figsize=(14, 10))\n",
    "sns.heatmap(df.corr(), annot=True, fmt=\".2f\", cmap='coolwarm')\n",
    "plt.show()\n",
    "\n"
   ]
  },
  {
   "cell_type": "markdown",
   "id": "ba0a9493",
   "metadata": {},
   "source": [
    "Based on this analysis, build a linear regression model using interaction between two features from your choice (based on this visual analysis). Compare the R2 with the baseline model."
   ]
  },
  {
   "cell_type": "code",
   "execution_count": null,
   "id": "26d18fa6",
   "metadata": {},
   "outputs": [],
   "source": [
    "\n",
    "## complete the code\n",
    "\n",
    "from sklearn.datasets import load_boston\n",
    "from sklearn.model_selection import train_test_split\n",
    "from sklearn.linear_model import LinearRegression\n",
    "from sklearn.metrics import r2_score\n",
    "import pandas as pd\n",
    "\n",
    "# Load the Boston housing dataset\n",
    "#boston = load_boston()\n",
    "#df = pd.DataFrame(boston.data, columns=boston.feature_names)\n",
    "#df['MEDV'] = boston.target\n",
    "\n",
    "X['new_feature'] = \n",
    "\n",
    "X_train, X_test, y_train, y_test = train_test_split(X, y, test_size=0.2, random_state=42)\n",
    "\n",
    "new_model_with_interaction = LinearRegression()\n",
    "\n",
    "# Train a model with the interaction term\n",
    "new_model_with_interaction.fit(X_train, y_train)\n",
    "\n",
    "# Evaluate Model:\n",
    "\n"
   ]
  },
  {
   "cell_type": "markdown",
   "id": "fd7223c1",
   "metadata": {},
   "source": [
    "## Feature Transformation"
   ]
  },
  {
   "cell_type": "markdown",
   "id": "2d4a5b5f",
   "metadata": {},
   "source": [
    "## Step 1: Conduct a Standard Regression Analysis on the Raw Data"
   ]
  },
  {
   "cell_type": "code",
   "execution_count": null,
   "id": "d1936e7b",
   "metadata": {},
   "outputs": [],
   "source": [
    "from sklearn.datasets import load_boston\n",
    "from sklearn.linear_model import LinearRegression\n",
    "from sklearn.metrics import mean_squared_error, r2_score\n",
    "from sklearn.model_selection import train_test_split\n",
    "import matplotlib.pyplot as plt\n",
    "import numpy as np\n",
    "import pandas as pd\n",
    "\n",
    "# Load the dataset\n",
    "boston = load_boston()\n",
    "df = pd.DataFrame(boston.data, columns=boston.feature_names)\n",
    "df['MEDV'] = boston.target\n",
    "\n",
    "# Visualizing the relationship between LSTAT and MEDV\n",
    "plt.scatter(df['LSTAT'], df['MEDV'], alpha=0.5)\n",
    "plt.xlabel('LSTAT (% lower status of the population)')\n",
    "plt.ylabel('MEDV (Median value of owner-occupied homes)')\n",
    "plt.title('Relationship between LSTAT and MEDV')\n",
    "plt.show()\n",
    "\n",
    "# Splitting the dataset\n",
    "X = df[['LSTAT']]\n",
    "y = df['MEDV']\n",
    "X_train, X_test, y_train, y_test = train_test_split(X, y, test_size=0.2, random_state=42)\n",
    "\n",
    "# Linear regression on original LSTAT\n",
    "lr = LinearRegression()\n",
    "lr.fit(X_train, y_train)\n",
    "y_pred = lr.predict(X_test)\n",
    "\n",
    "\n",
    "# Evaluating the model\n",
    "r2_raw= r2_score(y_test, y_pred)\n",
    "print(f\"R² score (original data): {r2_raw}\")\n"
   ]
  },
  {
   "cell_type": "markdown",
   "id": "8f968467",
   "metadata": {},
   "source": [
    "## Step 2: Construct a Residual Plot"
   ]
  },
  {
   "cell_type": "code",
   "execution_count": null,
   "id": "eb352f42",
   "metadata": {},
   "outputs": [],
   "source": [
    "sns.residplot(x=y_test, y=y_pred, lowess=True, line_kws={'color': 'red', 'lw': 1})\n",
    "plt.xlabel('Observed Values')\n",
    "plt.ylabel('Residuals')\n",
    "plt.title('Residual Plot for Raw Data')\n",
    "plt.show()\n"
   ]
  },
  {
   "cell_type": "markdown",
   "id": "e78dc1bb",
   "metadata": {},
   "source": [
    "the plot pattern is not random: Data may need transformation."
   ]
  },
  {
   "cell_type": "markdown",
   "id": "26f24bbd",
   "metadata": {},
   "source": [
    "## Step 3-4: Choose a Transformation Method & Apply It"
   ]
  },
  {
   "cell_type": "code",
   "execution_count": null,
   "id": "8f73ccda",
   "metadata": {},
   "outputs": [],
   "source": [
    "# Independent variable and its quadratic transformation\n",
    "X['LSTAT^2'] = X['LSTAT'] ** 2"
   ]
  },
  {
   "cell_type": "code",
   "execution_count": null,
   "id": "8784b0c7",
   "metadata": {},
   "outputs": [],
   "source": [
    "X.head()"
   ]
  },
  {
   "cell_type": "markdown",
   "id": "ccee59de",
   "metadata": {},
   "source": [
    "## Step 4: Conduct a Regression Analysis Using the Transformed Variables"
   ]
  },
  {
   "cell_type": "code",
   "execution_count": null,
   "id": "1c342150",
   "metadata": {},
   "outputs": [],
   "source": [
    "\n",
    "\n",
    "X_train, X_test, y_train, y_test = train_test_split(X, y, test_size=0.2, random_state=42)\n",
    "\n",
    "# Linear regression using the original and transformed LSTAT\n",
    "lr = LinearRegression()\n",
    "lr.fit(X_train, y_train)\n",
    "y_pred = lr.predict(X_test)\n",
    "\n",
    "# Evaluate the model\n",
    "r2_score_transformed = r2_score(y_test, y_pred)\n",
    "print(f\"R² score (with quadratic transformation): {r2_score_transformed}\")\n",
    "\n",
    "\n",
    "\n",
    "\n",
    "sns.residplot(x=y_test, y=y_pred, lowess=True, line_kws={'color': 'red', 'lw': 1})\n",
    "plt.xlabel('Observed Values')\n",
    "plt.ylabel('Residuals')\n",
    "plt.title('Residual Plot for Raw Data')\n",
    "plt.show()\n",
    "\n",
    "\n"
   ]
  },
  {
   "cell_type": "code",
   "execution_count": null,
   "id": "8f6d6351",
   "metadata": {},
   "outputs": [],
   "source": [
    "# the plot pattern is not random"
   ]
  },
  {
   "cell_type": "code",
   "execution_count": null,
   "id": "d31d3a4f",
   "metadata": {},
   "outputs": [],
   "source": [
    "# Comparing R² scores\n",
    "print(f\"R² before transformation: {r2_raw}\")\n",
    "print(f\"R² after transformation: {r2_score_transformed}\")\n",
    "\n",
    "if r2_score_transformed > r2_raw:\n",
    "    print(\"The transformation was successful!\")\n",
    "else:\n",
    "    print(\"The transformation did not improve the model. Try a different transformation method.\")\n",
    "\n",
    "    "
   ]
  },
  {
   "cell_type": "code",
   "execution_count": null,
   "id": "b94b89a1",
   "metadata": {},
   "outputs": [],
   "source": []
  },
  {
   "cell_type": "markdown",
   "id": "a001d81c",
   "metadata": {},
   "source": [
    "# Box-Cox Transformation"
   ]
  },
  {
   "cell_type": "markdown",
   "id": "f3edee8e",
   "metadata": {},
   "source": [
    "The Box-Cox transformation is a more general approach that can handle many types of skewness. It requires positive data and finds a parameter λ (lambda) to best normalize the data."
   ]
  },
  {
   "cell_type": "code",
   "execution_count": null,
   "id": "ca5aff84",
   "metadata": {},
   "outputs": [],
   "source": [
    "help(boxcox)"
   ]
  },
  {
   "cell_type": "code",
   "execution_count": null,
   "id": "feb70028",
   "metadata": {},
   "outputs": [],
   "source": [
    "from sklearn.datasets import load_boston\n",
    "import pandas as pd\n",
    "import numpy as np\n",
    "import matplotlib.pyplot as plt\n",
    "from scipy.stats import boxcox\n",
    "\n",
    "# Load the dataset\n",
    "boston = load_boston()\n",
    "df = pd.DataFrame(boston.data, columns=boston.feature_names)\n",
    "df['MEDV'] = boston.target\n",
    "\n",
    "# Focus on the 'RM' feature and the target 'MEDV'\n",
    "X = df['LSTAT']\n",
    "y = df['MEDV']\n",
    "\n",
    "\n",
    "plt.figure(figsize=(8, 6))\n",
    "plt.scatter(df['LSTAT'], df['MEDV'])\n",
    "plt.xlabel('% Lower Status of the Population (LSTAT)')\n",
    "plt.ylabel('Median Value of Owner-occupied Homes (MEDV)')\n",
    "plt.title('Original Relationship between LSTAT and MEDV')\n",
    "plt.show()\n",
    "\n",
    "\n",
    "df['Log_LSTAT'] = np.log(df['LSTAT'])\n",
    "\n",
    "plt.figure(figsize=(8, 6))\n",
    "plt.scatter(df['Log_LSTAT'], df['MEDV'])\n",
    "plt.xlabel('Log of LSTAT')\n",
    "plt.ylabel('MEDV')\n",
    "plt.title('Relationship between Log of LSTAT and MEDV')\n",
    "plt.show()\n",
    "\n",
    "\n",
    "\n",
    "df['Sqrt_LSTAT'] = np.sqrt(df['LSTAT'])\n",
    "\n",
    "plt.figure(figsize=(8, 6))\n",
    "plt.scatter(df['Sqrt_LSTAT'], df['MEDV'])\n",
    "plt.xlabel('Square Root of LSTAT')\n",
    "plt.ylabel('MEDV')\n",
    "plt.title('Relationship between Square Root of LSTAT and MEDV')\n",
    "plt.show()\n",
    "\n",
    "\n",
    "# Box-Cox Transformation\n",
    "df['BoxCox_LSTAT'], fitted_lambda_lstat = boxcox(df['LSTAT'])\n",
    "\n",
    "plt.figure(figsize=(8, 6))\n",
    "plt.scatter(df['BoxCox_LSTAT'], df['MEDV'])\n",
    "plt.xlabel('Box-Cox Transformed LSTAT')\n",
    "plt.ylabel('MEDV')\n",
    "plt.title('Relationship between Box-Cox Transformed LSTAT and MEDV')\n",
    "plt.show()\n",
    "\n",
    "print(f\"Fitted Lambda for Box-Cox Transformation of LSTAT: {fitted_lambda_lstat}\")\n",
    "\n"
   ]
  },
  {
   "cell_type": "code",
   "execution_count": null,
   "id": "e90c3577",
   "metadata": {},
   "outputs": [],
   "source": [
    "df.head()"
   ]
  },
  {
   "cell_type": "code",
   "execution_count": null,
   "id": "b0f6637d",
   "metadata": {},
   "outputs": [],
   "source": [
    "from sklearn.linear_model import LinearRegression\n",
    "from sklearn.model_selection import train_test_split\n",
    "from sklearn.metrics import mean_squared_error, r2_score\n",
    "\n",
    "# Using the Box-Cox transformed RM for modeling\n",
    "X_transformed = df[['BoxCox_LSTAT']]\n",
    "y = df['MEDV']\n",
    "\n",
    "# Split the data\n",
    "X_train, X_test, y_train, y_test = train_test_split(X_transformed, y, test_size=0.2, random_state=42)\n",
    "\n",
    "# Initialize the model\n",
    "model = LinearRegression()\n",
    "\n",
    "# Fit the model\n",
    "model.fit(X_train, y_train)\n",
    "\n",
    "# Predict on the testing set\n",
    "y_pred = model.predict(X_test)\n",
    "\n",
    "# Evaluate the model\n",
    "mse = mean_squared_error(y_test, y_pred)\n",
    "r2 = r2_score(y_test, y_pred)\n",
    "\n",
    "print(f\"Mean Squared Error: {mse}\")\n",
    "print(f\"R-squared: {r2}\")\n"
   ]
  },
  {
   "cell_type": "code",
   "execution_count": null,
   "id": "6d18d85a",
   "metadata": {},
   "outputs": [],
   "source": [
    "### predicting new value:"
   ]
  },
  {
   "cell_type": "code",
   "execution_count": null,
   "id": "30109095",
   "metadata": {},
   "outputs": [],
   "source": [
    "new_LSTAT_values = np.array([ 15])  # Example new data\n",
    "new_LSTAT_values_transformed = boxcox(new_LSTAT_values, lmbda=0.22776736893884023)\n",
    "predicted_MEDV = model.predict(new_LSTAT_values_transformed.reshape(-1, 1))\n",
    "predicted_MEDV"
   ]
  },
  {
   "cell_type": "markdown",
   "id": "0b5c5c86",
   "metadata": {},
   "source": [
    "# Conclusion"
   ]
  },
  {
   "cell_type": "markdown",
   "id": "925451ac",
   "metadata": {},
   "source": []
  }
 ],
 "metadata": {
  "kernelspec": {
   "display_name": "Python 3 (ipykernel)",
   "language": "python",
   "name": "python3"
  },
  "language_info": {
   "codemirror_mode": {
    "name": "ipython",
    "version": 3
   },
   "file_extension": ".py",
   "mimetype": "text/x-python",
   "name": "python",
   "nbconvert_exporter": "python",
   "pygments_lexer": "ipython3",
   "version": "3.9.13"
  }
 },
 "nbformat": 4,
 "nbformat_minor": 5
}
